{
 "cells": [
  {
   "cell_type": "markdown",
   "id": "87b91d83",
   "metadata": {},
   "source": [
    "# Assignment 1\n",
    "### Understanding Uncertainty\n",
    "### Due 9/5"
   ]
  },
  {
   "cell_type": "markdown",
   "id": "380e339f",
   "metadata": {},
   "source": [
    "1. Create a new public repo on Github under your account. Include a readme file.\n",
    "2. Clone it to your machine. Put this file into that repo.\n",
    "3. Use the following function to download the example data for the course:"
   ]
  },
  {
   "cell_type": "code",
   "execution_count": 1,
   "id": "2d62b4f6",
   "metadata": {},
   "outputs": [
    {
     "name": "stdout",
     "output_type": "stream",
     "text": [
      "Downloading course data\n",
      "Download complete\n",
      "Extracting data files...\n",
      "Data extracted\n"
     ]
    }
   ],
   "source": [
    "def download_data(force=False):\n",
    "    \"\"\"Download and extract course data from Zenodo.\"\"\"\n",
    "    import urllib.request, zipfile, os\n",
    "    \n",
    "    zip_path = 'data.zip'\n",
    "    data_dir = 'data'\n",
    "    \n",
    "    if not os.path.exists(zip_path) or force:\n",
    "        print(\"Downloading course data\")\n",
    "        urllib.request.urlretrieve(\n",
    "            'https://zenodo.org/records/16954427/files/data.zip?download=1',\n",
    "            zip_path\n",
    "        )\n",
    "        print(\"Download complete\")\n",
    "    else:\n",
    "        print(\"Download file already exists\")\n",
    "        \n",
    "    if not os.path.exists(data_dir) or force:\n",
    "        print(\"Extracting data files...\")\n",
    "        with zipfile.ZipFile(zip_path, 'r') as zip_ref:\n",
    "            zip_ref.extractall(data_dir)\n",
    "        print(\"Data extracted\")\n",
    "    else:\n",
    "        print(\"Data directory already exists\")\n",
    "\n",
    "download_data()"
   ]
  },
  {
   "cell_type": "markdown",
   "id": "01db0045",
   "metadata": {},
   "source": [
    "4. Open one of the datasets using Pandas:\n",
    "    1. `ames_prices.csv`: Housing characteristics and prices\n",
    "    2. `college_completion.csv`: Public, nonprofit, and for-profit educational institutions, graduation rates, and financial aid\n",
    "    3. `ForeignGifts_edu.csv`: Monetary and in-kind transfers from foreign entities to U.S. educational institutions\n",
    "    4. `iowa.csv`: Liquor sales in Iowa, at the transaction level\n",
    "    5. `metabric.csv`: Cancer patient and outcome data\n",
    "    6. `mn_police_use_of_force.csv`: Records of physical altercations between Minnessota police and private citizens\n",
    "    7. `nhanes_data_17_18.csv`: National Health and Nutrition Examination Survey\n",
    "    8. `tuna.csv`: Yellowfin Tuna Genome (I don't recommend this one; it's just a sequence of G, C, A, T )\n",
    "    9. `va_procurement.csv`: Public spending by the state of Virginia"
   ]
  },
  {
   "cell_type": "code",
   "execution_count": null,
   "id": "bcd48c30",
   "metadata": {},
   "outputs": [
    {
     "data": {
      "text/html": [
       "<div>\n",
       "<style scoped>\n",
       "    .dataframe tbody tr th:only-of-type {\n",
       "        vertical-align: middle;\n",
       "    }\n",
       "\n",
       "    .dataframe tbody tr th {\n",
       "        vertical-align: top;\n",
       "    }\n",
       "\n",
       "    .dataframe thead th {\n",
       "        text-align: right;\n",
       "    }\n",
       "</style>\n",
       "<table border=\"1\" class=\"dataframe\">\n",
       "  <thead>\n",
       "    <tr style=\"text-align: right;\">\n",
       "      <th></th>\n",
       "      <th>Unnamed: 0</th>\n",
       "      <th>Entity Description</th>\n",
       "      <th>NIGP #</th>\n",
       "      <th>NIGP Description</th>\n",
       "      <th>Item Description</th>\n",
       "      <th>Order #</th>\n",
       "      <th>Quantity Ordered</th>\n",
       "      <th>Unit Price</th>\n",
       "      <th>Unit of Measure</th>\n",
       "      <th>Line Total</th>\n",
       "      <th>Order Status</th>\n",
       "      <th>Procurement Transaction Type</th>\n",
       "      <th>Procurement Transaction Desc</th>\n",
       "      <th>Vendor Name</th>\n",
       "      <th>Vendor Address State</th>\n",
       "    </tr>\n",
       "  </thead>\n",
       "  <tbody>\n",
       "    <tr>\n",
       "      <th>0</th>\n",
       "      <td>1209821</td>\n",
       "      <td>Virginia Polytechnic Institute and State Unive...</td>\n",
       "      <td>91577.0</td>\n",
       "      <td>Telephone Services, Long Distance and Local (I...</td>\n",
       "      <td>-10K 14-17' DF IND FORKLIFT0550610</td>\n",
       "      <td>A208_P4426539</td>\n",
       "      <td>1.0</td>\n",
       "      <td>1895.00</td>\n",
       "      <td>EA</td>\n",
       "      <td>1895.00</td>\n",
       "      <td>Ordered</td>\n",
       "      <td>99.0</td>\n",
       "      <td>IMPORT</td>\n",
       "      <td>Sunbelt Rentals Inc</td>\n",
       "      <td>VA</td>\n",
       "    </tr>\n",
       "    <tr>\n",
       "      <th>1</th>\n",
       "      <td>1511053</td>\n",
       "      <td>Virginia Department of Energy</td>\n",
       "      <td>20468.0</td>\n",
       "      <td>Peripherals, Miscellaneous: Joy Sticks, Graphi...</td>\n",
       "      <td>Fellowes Microbanreg Mouse Pad - Black</td>\n",
       "      <td>PCO04672013</td>\n",
       "      <td>12.0</td>\n",
       "      <td>5.00</td>\n",
       "      <td>EA</td>\n",
       "      <td>60.00</td>\n",
       "      <td>Ordered</td>\n",
       "      <td>20.0</td>\n",
       "      <td>Supplies - Non-Technology</td>\n",
       "      <td>TSRC - State of VA</td>\n",
       "      <td>VA</td>\n",
       "    </tr>\n",
       "    <tr>\n",
       "      <th>2</th>\n",
       "      <td>410883</td>\n",
       "      <td>Department of Corrections - Academy</td>\n",
       "      <td>38542.0</td>\n",
       "      <td>Entrees, Meat (Includes Beef and Pork)</td>\n",
       "      <td>Performance Foodservice  Invoice# 5219606  Del...</td>\n",
       "      <td>PO04394339</td>\n",
       "      <td>1.0</td>\n",
       "      <td>234.20</td>\n",
       "      <td>LO</td>\n",
       "      <td>234.20</td>\n",
       "      <td>Ordered</td>\n",
       "      <td>20.0</td>\n",
       "      <td>Supplies - Non-Technology</td>\n",
       "      <td>Performance Foodservice VA</td>\n",
       "      <td>VA</td>\n",
       "    </tr>\n",
       "    <tr>\n",
       "      <th>3</th>\n",
       "      <td>1360394</td>\n",
       "      <td>Old Dominion University</td>\n",
       "      <td>49000.0</td>\n",
       "      <td>LABORATORY EQUIPMENT, ACCESSORIES AND SUPPLIES...</td>\n",
       "      <td>SystemETF# *********     RS020  Ø1 TappedPostS...</td>\n",
       "      <td>PO04579739-V2</td>\n",
       "      <td>3.0</td>\n",
       "      <td>11.51</td>\n",
       "      <td>EA</td>\n",
       "      <td>34.53</td>\n",
       "      <td>Ordered</td>\n",
       "      <td>15.0</td>\n",
       "      <td>Equipment - Technology</td>\n",
       "      <td>ThorLabs Inc</td>\n",
       "      <td>NJ</td>\n",
       "    </tr>\n",
       "    <tr>\n",
       "      <th>4</th>\n",
       "      <td>1180847</td>\n",
       "      <td>Longwood University</td>\n",
       "      <td>5000.0</td>\n",
       "      <td>ART EQUIPMENT AND SUPPLIES</td>\n",
       "      <td>Scotch Multi-Purpose Scissors, 7 Inches, Strai...</td>\n",
       "      <td>PO04601721</td>\n",
       "      <td>74.0</td>\n",
       "      <td>3.57</td>\n",
       "      <td>EA</td>\n",
       "      <td>264.18</td>\n",
       "      <td>Ordered</td>\n",
       "      <td>20.0</td>\n",
       "      <td>Supplies - Non-Technology</td>\n",
       "      <td>School Specialty LLC</td>\n",
       "      <td>WI</td>\n",
       "    </tr>\n",
       "  </tbody>\n",
       "</table>\n",
       "</div>"
      ],
      "text/plain": [
       "   Unnamed: 0                                 Entity Description   NIGP #  \\\n",
       "0     1209821  Virginia Polytechnic Institute and State Unive...  91577.0   \n",
       "1     1511053                      Virginia Department of Energy  20468.0   \n",
       "2      410883                Department of Corrections - Academy  38542.0   \n",
       "3     1360394                            Old Dominion University  49000.0   \n",
       "4     1180847                                Longwood University   5000.0   \n",
       "\n",
       "                                    NIGP Description  \\\n",
       "0  Telephone Services, Long Distance and Local (I...   \n",
       "1  Peripherals, Miscellaneous: Joy Sticks, Graphi...   \n",
       "2             Entrees, Meat (Includes Beef and Pork)   \n",
       "3  LABORATORY EQUIPMENT, ACCESSORIES AND SUPPLIES...   \n",
       "4                         ART EQUIPMENT AND SUPPLIES   \n",
       "\n",
       "                                    Item Description        Order #  \\\n",
       "0                 -10K 14-17' DF IND FORKLIFT0550610  A208_P4426539   \n",
       "1             Fellowes Microbanreg Mouse Pad - Black    PCO04672013   \n",
       "2  Performance Foodservice  Invoice# 5219606  Del...     PO04394339   \n",
       "3  SystemETF# *********     RS020  Ø1 TappedPostS...  PO04579739-V2   \n",
       "4  Scotch Multi-Purpose Scissors, 7 Inches, Strai...     PO04601721   \n",
       "\n",
       "   Quantity Ordered  Unit Price Unit of Measure  Line Total Order Status  \\\n",
       "0               1.0     1895.00              EA     1895.00      Ordered   \n",
       "1              12.0        5.00              EA       60.00      Ordered   \n",
       "2               1.0      234.20              LO      234.20      Ordered   \n",
       "3               3.0       11.51              EA       34.53      Ordered   \n",
       "4              74.0        3.57              EA      264.18      Ordered   \n",
       "\n",
       "   Procurement Transaction Type Procurement Transaction Desc  \\\n",
       "0                          99.0                       IMPORT   \n",
       "1                          20.0    Supplies - Non-Technology   \n",
       "2                          20.0    Supplies - Non-Technology   \n",
       "3                          15.0       Equipment - Technology   \n",
       "4                          20.0    Supplies - Non-Technology   \n",
       "\n",
       "                  Vendor Name Vendor Address State  \n",
       "0         Sunbelt Rentals Inc                   VA  \n",
       "1          TSRC - State of VA                   VA  \n",
       "2  Performance Foodservice VA                   VA  \n",
       "3                ThorLabs Inc                   NJ  \n",
       "4        School Specialty LLC                   WI  "
      ]
     },
     "execution_count": 9,
     "metadata": {},
     "output_type": "execute_result"
    }
   ],
   "source": [
    "# Part 4 - Load Packages that we plan to Use, Numpy and Pandas\n",
    "# Then read csv of va_procurement data\n",
    "import numpy as np\n",
    "import pandas as pd\n",
    "\n",
    "proc = pd.read_csv('./data/va_procurement.csv')\n",
    "proc.head()"
   ]
  },
  {
   "cell_type": "code",
   "execution_count": 10,
   "id": "0a10c7a7",
   "metadata": {},
   "outputs": [
    {
     "data": {
      "text/plain": [
       "(95902, 15)"
      ]
     },
     "execution_count": 10,
     "metadata": {},
     "output_type": "execute_result"
    }
   ],
   "source": [
    "proc.shape"
   ]
  },
  {
   "cell_type": "markdown",
   "id": "fa5cade1",
   "metadata": {},
   "source": [
    "5. Pick two or three variables and briefly analyze them\n",
    "    - Is it a categorical or numeric variable?\n",
    "    - How many missing values are there? (`df['var'].isna()` and `np.sum()`)\n",
    "    - If categorical, tabulate the values (`df['var'].value_counts()`) and if numeric, get a summary (`df['var'].describe()`)"
   ]
  },
  {
   "cell_type": "code",
   "execution_count": 22,
   "id": "638ee461",
   "metadata": {},
   "outputs": [
    {
     "data": {
      "text/plain": [
       "(np.int64(0), np.int64(0))"
      ]
     },
     "execution_count": 22,
     "metadata": {},
     "output_type": "execute_result"
    }
   ],
   "source": [
    "#Part 5 - Which Vendor is the State of Virginia Giving the Most Money?\n",
    "# What was the most expesive transaction given to that vendor?\n",
    "#- Vendor Name: Categorical, Line Total: Numeric\n",
    "NAVendor = proc['Vendor Name'].isna().sum()\n",
    "NALineTotal = proc['Line Total'].isna().sum()\n",
    "NAVendor, NALineTotal"
   ]
  },
  {
   "cell_type": "code",
   "execution_count": 15,
   "id": "9eaf2c0c",
   "metadata": {},
   "outputs": [
    {
     "name": "stdout",
     "output_type": "stream",
     "text": [
      "Vendor Name\n",
      "TSRC - State of VA                          4569\n",
      "Virginia Distribution Center - VDC - DGS    4315\n",
      "W W Grainger Inc                            1846\n",
      "Amazon com LLC                              1794\n",
      "Fisher Scientific Company, LLC              1460\n",
      "                                            ... \n",
      "BROWN GOLDSTEIN & LEVY LLP                     1\n",
      "J&S STUMP GRINDING & TREE WORKS INC            1\n",
      "Culpeper Wellness Foundation                   1\n",
      "Hippodrome Entertainment LLC                   1\n",
      "Natl Assoc of State Depts of Agriculture       1\n",
      "Name: count, Length: 10875, dtype: int64\n",
      "count    9.590200e+04\n",
      "mean     2.256990e+04\n",
      "std      1.167073e+06\n",
      "min     -9.625000e+04\n",
      "25%      3.241250e+01\n",
      "50%      1.342050e+02\n",
      "75%      6.669800e+02\n",
      "max      2.094900e+08\n",
      "Name: Line Total, dtype: float64\n"
     ]
    }
   ],
   "source": [
    "#Value Counts for Vendor Name and Line Total\n",
    "Vendors = proc['Vendor Name'].value_counts()\n",
    "LineTotal = proc['Line Total'].describe()\n",
    "\n",
    "print(Vendors)\n",
    "print(LineTotal)"
   ]
  },
  {
   "cell_type": "code",
   "execution_count": 20,
   "id": "0dd15318",
   "metadata": {},
   "outputs": [
    {
     "name": "stdout",
     "output_type": "stream",
     "text": [
      "-96250.0 209490000.0\n"
     ]
    }
   ],
   "source": [
    "#Verify Line Total min and max\n",
    "LineTotalmin = proc['Line Total'].min()\n",
    "LineTotalmax = proc['Line Total'].max()\n",
    "print(LineTotalmin, LineTotalmax)"
   ]
  },
  {
   "cell_type": "markdown",
   "id": "dbf2318a",
   "metadata": {},
   "source": [
    "6. What are some questions and prediction tools you could create using these data? Who would the stakeholder be for that prediction tool? What practical or ethical questions would it create? What other data would you want, that are not available in your data?"
   ]
  },
  {
   "cell_type": "markdown",
   "id": "fc8826d5",
   "metadata": {},
   "source": [
    "#Using this data we can see the number of transactions to Each Vendor, and if we grouped by vendor and used Line Total we could see the total purchase amount made to each Vendor. The stakeholders for this prediction would be auditors and ultimately Virginia Tax payers. Virginia is supposed to user SWaM vendors (certified small, women-owned, and minority-owned business), it would be interesting to see if there is a database where we could compare the Vendor names in this dataset to SWaM vendors to see how that policy is working."
   ]
  },
  {
   "cell_type": "markdown",
   "id": "a4a7ddc7",
   "metadata": {},
   "source": [
    "7. Commit your work to the repo (`git commit -am 'Finish assignment'` at the command line, or use the Git panel in VS Code). Push your work back to Github and submit the link on Canvas in the assignment tab."
   ]
  }
 ],
 "metadata": {
  "kernelspec": {
   "display_name": "ds6001",
   "language": "python",
   "name": "python3"
  },
  "language_info": {
   "codemirror_mode": {
    "name": "ipython",
    "version": 3
   },
   "file_extension": ".py",
   "mimetype": "text/x-python",
   "name": "python",
   "nbconvert_exporter": "python",
   "pygments_lexer": "ipython3",
   "version": "3.13.5"
  }
 },
 "nbformat": 4,
 "nbformat_minor": 5
}
